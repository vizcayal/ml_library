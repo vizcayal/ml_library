{
 "cells": [
  {
   "cell_type": "code",
   "execution_count": null,
   "metadata": {},
   "outputs": [],
   "source": [
    "import numpy as np\n",
    "from NeuralNetwork import NeuralNetwork\n",
    "\n",
    "#X = np.array([[0, 0, 1], [0, 1, 1], [1, 0, 1], [1, 1, 1]])\n",
    "X = np.array([[0, 0, 1]])\n",
    "y = np.array([[0]])\n",
    "\n",
    "# Initialize and train the network\n",
    "nn = NeuralNetwork(input_size=3, hidden_size=2, output_size=1)\n",
    "test_data = np.array([[1, 1, 0]])\n",
    "nn.train(X, y, 100, lr = 0.05)\n"
   ]
  }
 ],
 "metadata": {
  "kernelspec": {
   "display_name": "base",
   "language": "python",
   "name": "python3"
  },
  "language_info": {
   "codemirror_mode": {
    "name": "ipython",
    "version": 3
   },
   "file_extension": ".py",
   "mimetype": "text/x-python",
   "name": "python",
   "nbconvert_exporter": "python",
   "pygments_lexer": "ipython3",
   "version": "3.9.12"
  }
 },
 "nbformat": 4,
 "nbformat_minor": 2
}
